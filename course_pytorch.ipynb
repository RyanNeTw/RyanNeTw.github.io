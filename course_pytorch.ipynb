{
 "cells": [
  {
   "cell_type": "code",
   "execution_count": 1,
   "metadata": {},
   "outputs": [],
   "source": [
    "import torch\n",
    "from torchvision import datasets\n",
    "import torchvision.transforms as T\n",
    "import matplotlib.pyplot as plt"
   ]
  },
  {
   "cell_type": "code",
   "execution_count": 2,
   "metadata": {},
   "outputs": [],
   "source": [
    "# Importer Un dataset préfait (MNIST)\n",
    "\n",
    "training_dataset = datasets.MNIST(\n",
    "    root=\"data\",\n",
    "    train=True,\n",
    "    download=True,\n",
    "    transform=T.ToTensor()\n",
    ")\n",
    "\n",
    "test_dataset = datasets.MNIST(\n",
    "    root=\"data\",\n",
    "    train=False,\n",
    "    download=True,\n",
    "    transform=T.ToTensor()\n",
    ")"
   ]
  },
  {
   "cell_type": "code",
   "execution_count": 3,
   "metadata": {},
   "outputs": [
    {
     "name": "stdout",
     "output_type": "stream",
     "text": [
      "Dataset MNIST\n",
      "    Number of datapoints: 60000\n",
      "    Root location: data\n",
      "    Split: Train\n",
      "    StandardTransform\n",
      "Transform: ToTensor()\n",
      "torch.Size([60000, 28, 28])\n",
      "torch.Size([60000])\n",
      "tensor([0, 1, 2, 3, 4, 5, 6, 7, 8, 9])\n",
      "tensor([5923, 6742, 5958, 6131, 5842, 5421, 5918, 6265, 5851, 5949])\n"
     ]
    }
   ],
   "source": [
    "print(training_dataset)\n",
    "print(training_dataset.data.shape)\n",
    "print(training_dataset.targets.shape)\n",
    "print(training_dataset.targets.unique())\n",
    "print(training_dataset.targets.bincount())"
   ]
  },
  {
   "cell_type": "code",
   "execution_count": 4,
   "metadata": {},
   "outputs": [
    {
     "data": {
      "image/png": "[encoded data removed]",
      "text/plain": [
       "<Figure size 800x800 with 9 Axes>"
      ]
     },
     "metadata": {},
     "output_type": "display_data"
    }
   ],
   "source": [
    "figure = plt.figure(figsize=(8, 8))\n",
    "cols, rows = 3, 3\n",
    "for i in range(1, cols * rows + 1):\n",
    "    sample_idx = torch.randint(len(training_dataset), size=(1,)).item()\n",
    "    img, label = training_dataset[sample_idx]\n",
    "    figure.add_subplot(rows, cols, i)\n",
    "    plt.title(label)\n",
    "    plt.axis(\"off\")\n",
    "    plt.imshow(img.squeeze(), cmap=\"gray\")\n",
    "plt.show()"
   ]
  },
  {
   "cell_type": "code",
   "execution_count": 5,
   "metadata": {},
   "outputs": [
    {
     "name": "stdout",
     "output_type": "stream",
     "text": [
      "shape X : torch.Size([64, 1, 28, 28])\n",
      "y shape: torch.Size([64])\n"
     ]
    }
   ],
   "source": [
    "from torch.utils.data import DataLoader\n",
    "\n",
    "batch_size = 64\n",
    "\n",
    "train_dataloader = DataLoader(training_dataset, batch_size=batch_size, shuffle=True)\n",
    "test_dataloader = DataLoader(test_dataset, batch_size=batch_size)\n",
    "\n",
    "for X, y in test_dataloader:\n",
    "    print(f\"shape X : {X.shape}\")\n",
    "    print(f\"y shape: {y.shape}\")\n",
    "    break"
   ]
  },
  {
   "cell_type": "code",
   "execution_count": 6,
   "metadata": {},
   "outputs": [
    {
     "data": {
      "text/plain": [
       "torch.Size([64, 1, 28, 28])"
      ]
     },
     "execution_count": 6,
     "metadata": {},
     "output_type": "execute_result"
    }
   ],
   "source": [
    "train_features, train_labels = next(iter(train_dataloader))\n",
    "train_features.shape"
   ]
  },
  {
   "cell_type": "code",
   "execution_count": 7,
   "metadata": {},
   "outputs": [],
   "source": [
    "import torch.nn as nn\n",
    "\n",
    "class MLP(nn.Module):\n",
    "    def __init__(self, dims):\n",
    "        super(MLP, self).__init__()\n",
    "        self.fcs = nn.ModuleList(\n",
    "            [nn.Linear(dims[i], dims[i+1]) for i in range(len(dims)-1)]\n",
    "        )\n",
    "        self.act = nn.ReLU()\n",
    "        self.flatten = nn.Flatten()\n",
    "\n",
    "    def forward(self, x):\n",
    "        x = self.flatten(x) #1 * 28 * 28 -> 1 * 784 \n",
    "        for layer in self.fcs:\n",
    "            x  = layer(x)\n",
    "            x = self.act(x)\n",
    "        return x"
   ]
  },
  {
   "cell_type": "code",
   "execution_count": 8,
   "metadata": {},
   "outputs": [],
   "source": [
    "input_dim = 28*28\n",
    "output_dim = 10 #Nombre de classe\n",
    "model = MLP([input_dim, 128, 128, output_dim])"
   ]
  },
  {
   "cell_type": "code",
   "execution_count": 9,
   "metadata": {},
   "outputs": [
    {
     "data": {
      "text/plain": [
       "MLP(\n",
       "  (fcs): ModuleList(\n",
       "    (0): Linear(in_features=784, out_features=128, bias=True)\n",
       "    (1): Linear(in_features=128, out_features=128, bias=True)\n",
       "    (2): Linear(in_features=128, out_features=10, bias=True)\n",
       "  )\n",
       "  (act): ReLU()\n",
       "  (flatten): Flatten(start_dim=1, end_dim=-1)\n",
       ")"
      ]
     },
     "execution_count": 9,
     "metadata": {},
     "output_type": "execute_result"
    }
   ],
   "source": [
    "model"
   ]
  },
  {
   "cell_type": "code",
   "execution_count": 10,
   "metadata": {},
   "outputs": [],
   "source": [
    "loss_fn = nn.CrossEntropyLoss() # Expect raw logits (!= probabilities)\n",
    "optimizer = torch.optim.AdamW(model.parameters(), lr=1e-3) "
   ]
  },
  {
   "cell_type": "code",
   "execution_count": 13,
   "metadata": {},
   "outputs": [],
   "source": [
    "def train_loop(dataloader, model, loss_fn, optimizer):\n",
    "    model.train()\n",
    "\n",
    "    for batch, (X, y) in enumerate(dataloader):\n",
    "\n",
    "        #Prédiction\n",
    "        ypred = model(X)\n",
    "        loss = loss_fn(ypred, y) #Calcul de l'erreur\n",
    "\n",
    "        #backpropagation\n",
    "        loss.backward()\n",
    "        optimizer.step() #W = W - lr * grad\n",
    "        optimizer.zero_grad()\n",
    "\n",
    "        if batch % 100 == 0:\n",
    "            loss, current = loss.item(), batch * batch_size * len(X)\n",
    "            print(f'loss {loss:>7f} [{current:>5d}/{len(dataloader.dataset)}]')\n",
    "\n",
    "def test_loop(dataloader, model, loss_fn):\n",
    "    model.eval()\n",
    "    test_loss, correct = 0, 0\n",
    "\n",
    "    with torch.no_grad():\n",
    "        for X, y in dataloader:\n",
    "            ypred = model(X)\n",
    "            test_loss += loss_fn(ypred, y).item()\n",
    "            correct += (ypred.argmax(1) == y).type(torch.float).sum().item()\n",
    "    \n",
    "    test_loss/= len(dataloader)\n",
    "    correct/=len(dataloader.dataset)\n",
    "    print(f\"Test loss: {test_loss:>8f} | test accuracy {(correct * 100):>7f}\")"
   ]
  },
  {
   "cell_type": "code",
   "execution_count": 14,
   "metadata": {},
   "outputs": [
    {
     "name": "stdout",
     "output_type": "stream",
     "text": [
      "Epoch 1 ------------------------\n",
      "loss 2.289620 [    0/60000]\n",
      "loss 1.222234 [409600/60000]\n",
      "loss 1.095790 [819200/60000]\n",
      "loss 1.032211 [1228800/60000]\n",
      "loss 1.100716 [1638400/60000]\n",
      "loss 1.166392 [2048000/60000]\n",
      "loss 0.927789 [2457600/60000]\n",
      "loss 1.043676 [2867200/60000]\n",
      "loss 1.080524 [3276800/60000]\n",
      "loss 0.817952 [3686400/60000]\n",
      "Test loss: 1.040101 | test accuracy 66.770000\n",
      "Epoch 2 ------------------------\n",
      "loss 0.714968 [    0/60000]\n",
      "loss 0.958274 [409600/60000]\n",
      "loss 1.132699 [819200/60000]\n",
      "loss 1.249062 [1228800/60000]\n",
      "loss 0.933068 [1638400/60000]\n",
      "loss 0.930488 [2048000/60000]\n",
      "loss 0.891248 [2457600/60000]\n",
      "loss 0.822153 [2867200/60000]\n",
      "loss 1.039434 [3276800/60000]\n",
      "loss 1.126378 [3686400/60000]\n",
      "Test loss: 0.982651 | test accuracy 68.750000\n",
      "Epoch 3 ------------------------\n",
      "loss 0.937032 [    0/60000]\n",
      "loss 0.891880 [409600/60000]\n",
      "loss 1.186265 [819200/60000]\n",
      "loss 0.988578 [1228800/60000]\n",
      "loss 0.960681 [1638400/60000]\n",
      "loss 0.944863 [2048000/60000]\n",
      "loss 0.942443 [2457600/60000]\n",
      "loss 0.844478 [2867200/60000]\n",
      "loss 1.115630 [3276800/60000]\n",
      "loss 0.729835 [3686400/60000]\n",
      "Test loss: 0.965594 | test accuracy 69.110000\n",
      "Epoch 4 ------------------------\n",
      "loss 1.100151 [    0/60000]\n",
      "loss 1.210550 [409600/60000]\n",
      "loss 0.863847 [819200/60000]\n",
      "loss 0.809658 [1228800/60000]\n",
      "loss 0.956772 [1638400/60000]\n",
      "loss 1.251768 [2048000/60000]\n",
      "loss 0.979630 [2457600/60000]\n",
      "loss 0.840902 [2867200/60000]\n",
      "loss 0.943151 [3276800/60000]\n",
      "loss 1.204561 [3686400/60000]\n",
      "Test loss: 0.960297 | test accuracy 69.410000\n",
      "Epoch 5 ------------------------\n",
      "loss 0.935413 [    0/60000]\n",
      "loss 0.767673 [409600/60000]\n",
      "loss 1.020876 [819200/60000]\n",
      "loss 0.838217 [1228800/60000]\n",
      "loss 0.757784 [1638400/60000]\n",
      "loss 0.842963 [2048000/60000]\n",
      "loss 0.802312 [2457600/60000]\n",
      "loss 1.083496 [2867200/60000]\n",
      "loss 0.810813 [3276800/60000]\n",
      "loss 0.918276 [3686400/60000]\n",
      "Test loss: 0.954369 | test accuracy 69.670000\n",
      "Epoch 6 ------------------------\n",
      "loss 0.833679 [    0/60000]\n",
      "loss 0.981654 [409600/60000]\n",
      "loss 0.945137 [819200/60000]\n",
      "loss 0.955447 [1228800/60000]\n",
      "loss 0.849365 [1638400/60000]\n",
      "loss 0.765686 [2048000/60000]\n",
      "loss 0.769828 [2457600/60000]\n",
      "loss 0.851106 [2867200/60000]\n",
      "loss 1.084100 [3276800/60000]\n",
      "loss 1.310111 [3686400/60000]\n",
      "Test loss: 0.957300 | test accuracy 69.360000\n",
      "Epoch 7 ------------------------\n",
      "loss 1.212252 [    0/60000]\n",
      "loss 0.742693 [409600/60000]\n",
      "loss 0.988176 [819200/60000]\n",
      "loss 1.149621 [1228800/60000]\n",
      "loss 0.972217 [1638400/60000]\n",
      "loss 1.189466 [2048000/60000]\n",
      "loss 0.740701 [2457600/60000]\n",
      "loss 1.121768 [2867200/60000]\n",
      "loss 0.983767 [3276800/60000]\n",
      "loss 0.797692 [3686400/60000]\n",
      "Test loss: 0.957852 | test accuracy 69.380000\n",
      "Epoch 8 ------------------------\n",
      "loss 0.869043 [    0/60000]\n",
      "loss 0.904037 [409600/60000]\n",
      "loss 0.722485 [819200/60000]\n",
      "loss 0.867681 [1228800/60000]\n",
      "loss 0.976764 [1638400/60000]\n",
      "loss 1.081248 [2048000/60000]\n",
      "loss 1.193380 [2457600/60000]\n",
      "loss 0.935983 [2867200/60000]\n",
      "loss 0.947405 [3276800/60000]\n",
      "loss 0.749354 [3686400/60000]\n",
      "Test loss: 0.947885 | test accuracy 69.710000\n",
      "Epoch 9 ------------------------\n",
      "loss 1.008233 [    0/60000]\n",
      "loss 0.884482 [409600/60000]\n",
      "loss 1.085169 [819200/60000]\n",
      "loss 0.873348 [1228800/60000]\n",
      "loss 0.937812 [1638400/60000]\n",
      "loss 1.191391 [2048000/60000]\n",
      "loss 0.973918 [2457600/60000]\n",
      "loss 0.983271 [2867200/60000]\n",
      "loss 1.187648 [3276800/60000]\n",
      "loss 0.808125 [3686400/60000]\n",
      "Test loss: 0.960409 | test accuracy 69.450000\n",
      "Epoch 10 ------------------------\n",
      "loss 0.756073 [    0/60000]\n",
      "loss 1.009309 [409600/60000]\n",
      "loss 0.773411 [819200/60000]\n",
      "loss 1.187888 [1228800/60000]\n",
      "loss 0.972451 [1638400/60000]\n",
      "loss 0.935601 [2048000/60000]\n",
      "loss 0.652023 [2457600/60000]\n",
      "loss 0.828368 [2867200/60000]\n",
      "loss 0.866036 [3276800/60000]\n",
      "loss 0.890159 [3686400/60000]\n",
      "Test loss: 0.967489 | test accuracy 69.360000\n",
      "Done!\n"
     ]
    }
   ],
   "source": [
    "epochs = 10\n",
    "for t in range(epochs):\n",
    "    print(f\"Epoch {t+1} ------------------------\")\n",
    "    train_loop(train_dataloader, model, loss_fn, optimizer)\n",
    "    test_loop(test_dataloader, model, loss_fn)\n",
    "print(\"Done!\")"
   ]
  },
  {
   "cell_type": "code",
   "execution_count": null,
   "metadata": {},
   "outputs": [],
   "source": []
  }
 ],
 "metadata": {
  "kernelspec": {
   "display_name": ".venv",
   "language": "python",
   "name": "python3"
  },
  "language_info": {
   "codemirror_mode": {
    "name": "ipython",
    "version": 3
   },
   "file_extension": ".py",
   "mimetype": "text/x-python",
   "name": "python",
   "nbconvert_exporter": "python",
   "pygments_lexer": "ipython3",
   "version": "3.12.8"
  }
 },
 "nbformat": 4,
 "nbformat_minor": 2
}
